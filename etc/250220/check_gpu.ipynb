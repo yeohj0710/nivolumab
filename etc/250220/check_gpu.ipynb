{
 "cells": [
  {
   "cell_type": "code",
   "execution_count": 1,
   "metadata": {},
   "outputs": [
    {
     "name": "stdout",
     "output_type": "stream",
     "text": [
      "사용 중인 디바이스: cuda\n",
      "사용 가능한 GPU 개수: 2\n",
      "GPU 0: NVIDIA RTX A6000\n",
      "  - 메모리 사용량: 0.00 MB\n",
      "  - 총 메모리: 48668.56 MB\n",
      "  - 연산 가능 여부: 가능\n",
      "GPU 1: NVIDIA RTX A6000\n",
      "  - 메모리 사용량: 0.00 MB\n",
      "  - 총 메모리: 48676.75 MB\n",
      "  - 연산 가능 여부: 가능\n"
     ]
    }
   ],
   "source": [
    "import torch\n",
    "\n",
    "# 현재 사용 가능한 디바이스 확인\n",
    "device = torch.device(\"cuda\" if torch.cuda.is_available() else \"cpu\")\n",
    "print(f\"사용 중인 디바이스: {device}\")\n",
    "\n",
    "# GPU가 사용 가능할 경우, 추가 정보 출력\n",
    "if torch.cuda.is_available():\n",
    "    gpu_count = torch.cuda.device_count()\n",
    "    print(f\"사용 가능한 GPU 개수: {gpu_count}\")\n",
    "\n",
    "    for i in range(gpu_count):\n",
    "        print(f\"GPU {i}: {torch.cuda.get_device_name(i)}\")\n",
    "        print(f\"  - 메모리 사용량: {torch.cuda.memory_allocated(i) / 1024 ** 2:.2f} MB\")\n",
    "        print(\n",
    "            f\"  - 총 메모리: {torch.cuda.get_device_properties(i).total_memory / 1024 ** 2:.2f} MB\"\n",
    "        )\n",
    "        print(\n",
    "            f\"  - 연산 가능 여부: {'가능' if torch.cuda.is_available() else '불가능'}\"\n",
    "        )\n",
    "\n",
    "else:\n",
    "    print(\"GPU가 감지되지 않았습니다. CPU를 사용합니다.\")"
   ]
  }
 ],
 "metadata": {
  "kernelspec": {
   "display_name": "base",
   "language": "python",
   "name": "python3"
  },
  "language_info": {
   "codemirror_mode": {
    "name": "ipython",
    "version": 3
   },
   "file_extension": ".py",
   "mimetype": "text/x-python",
   "name": "python",
   "nbconvert_exporter": "python",
   "pygments_lexer": "ipython3",
   "version": "3.11.7"
  }
 },
 "nbformat": 4,
 "nbformat_minor": 2
}
