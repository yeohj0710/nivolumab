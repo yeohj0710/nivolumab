{
 "cells": [
  {
   "cell_type": "code",
   "execution_count": 2,
   "metadata": {},
   "outputs": [
    {
     "name": "stdout",
     "output_type": "stream",
     "text": [
      "폴더 1_data files 안의 CSV 파일 개수: 2500\n",
      "폴더 2_data files 안의 CSV 파일 개수: 2500\n",
      "폴더 3_data files 안의 CSV 파일 개수: 2500\n",
      "폴더 4_data files 안의 CSV 파일 개수: 2500\n"
     ]
    }
   ],
   "source": [
    "import os\n",
    "\n",
    "# i 값에 대한 반복문 (1~4)\n",
    "for i in range(1, 5):\n",
    "    # 상대 경로 설정\n",
    "    folder_path = f\"../Data files/{i}_data files/\"\n",
    "\n",
    "    # CSV 파일 개수 세기\n",
    "    csv_count = 0\n",
    "    if os.path.exists(folder_path):\n",
    "        for file_name in os.listdir(folder_path):\n",
    "            if file_name.endswith(\".csv\"):\n",
    "                csv_count += 1\n",
    "\n",
    "    # 결과 출력\n",
    "    print(f\"폴더 {i}_data files 안의 CSV 파일 개수: {csv_count}\")"
   ]
  }
 ],
 "metadata": {
  "kernelspec": {
   "display_name": "Python 3",
   "language": "python",
   "name": "python3"
  },
  "language_info": {
   "codemirror_mode": {
    "name": "ipython",
    "version": 3
   },
   "file_extension": ".py",
   "mimetype": "text/x-python",
   "name": "python",
   "nbconvert_exporter": "python",
   "pygments_lexer": "ipython3",
   "version": "3.10.12"
  }
 },
 "nbformat": 4,
 "nbformat_minor": 2
}
