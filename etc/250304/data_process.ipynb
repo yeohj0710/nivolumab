{
 "cells": [
  {
   "cell_type": "code",
   "execution_count": null,
   "metadata": {},
   "outputs": [
    {
     "name": "stderr",
     "output_type": "stream",
     "text": [
      "Processing group 1: 100%|██████████| 2500/2500 [00:09<00:00, 277.57it/s]\n",
      "Processing group 2: 100%|██████████| 2500/2500 [00:08<00:00, 294.17it/s]\n",
      "Processing group 3: 100%|██████████| 2500/2500 [00:08<00:00, 291.57it/s]\n",
      "Processing group 4: 100%|██████████| 2500/2500 [00:08<00:00, 287.86it/s]\n"
     ]
    }
   ],
   "source": [
    "import pandas as pd\n",
    "import os\n",
    "from tqdm import tqdm  # 진행 상황 확인을 위한 라이브러리\n",
    "\n",
    "output_rows = []\n",
    "\n",
    "# 1부터 4까지 그룹, 각 그룹에 대해 1부터 2500까지 파일 처리\n",
    "for i in range(1, 5):\n",
    "    for j in tqdm(range(1, 2501), desc=f\"Processing group {i}\"):\n",
    "        file_path = f\"../Data files/{i}_data files/result_{j}.csv\"\n",
    "        # 첫 번째 열은 인덱스 역할이므로 index_col=0으로 처리\n",
    "        df = pd.read_csv(file_path, index_col=0)\n",
    "        # static 값: \"BW\", \"EGFR\", \"SEX\", \"RAAS\", \"BPS\", \"amt\", \"II\"\n",
    "        static_values = df.iloc[0][[\"BW\", \"EGFR\", \"SEX\", \"RAAS\", \"BPS\", \"amt\", \"II\"]]\n",
    "        # t=0인 row는 CP=0이므로 제외, time>=1인 경우의 CP값만 배열로 수집\n",
    "        cp_sequence = df.loc[df[\"time\"] >= 1, \"CP\"].tolist()\n",
    "        # 한 행의 데이터 구성\n",
    "        row_dict = static_values.to_dict()\n",
    "        row_dict[\"CP_sequence\"] = cp_sequence\n",
    "        output_rows.append(row_dict)\n",
    "\n",
    "# 최종 DataFrame 생성 (총 4×2500 = 10,000행)\n",
    "result_df = pd.DataFrame(output_rows)\n",
    "# Parquet 파일로 저장\n",
    "result_df.to_parquet(\"../processed_data.parquet\", engine=\"pyarrow\")\n"
   ]
  },
  {
   "cell_type": "code",
   "execution_count": 1,
   "metadata": {},
   "outputs": [
    {
     "name": "stdout",
     "output_type": "stream",
     "text": [
      "       BW    EGFR  SEX  RAAS  BPS    amt     II  \\\n",
      "0   68.28   66.37  1.0   1.0  1.0  244.0  482.0   \n",
      "1   74.65   73.51  1.0   0.0  1.0  349.0  333.0   \n",
      "2  109.14  112.20  0.0   0.0  0.0  253.0  314.0   \n",
      "3   80.45   80.02  0.0   0.0  0.0  414.0  383.0   \n",
      "4   81.58   81.29  1.0   0.0  1.0  210.0  387.0   \n",
      "\n",
      "                                         CP_sequence  \n",
      "0  [47.8230483978772, 47.4611821136084, 47.106996...  \n",
      "1  [61.7256850782601, 61.2639927876879, 60.810790...  \n",
      "2  [90.7251063784226, 89.513886832227, 88.3331084...  \n",
      "3  [148.141296157798, 145.663902299757, 143.24205...  \n",
      "4  [102.131438124903, 100.003249264386, 97.935064...  \n"
     ]
    }
   ],
   "source": [
    "import pandas as pd\n",
    "\n",
    "df = pd.read_parquet(\"../processed_data.parquet\", engine=\"pyarrow\")\n",
    "print(df.head())"
   ]
  }
 ],
 "metadata": {
  "kernelspec": {
   "display_name": "base",
   "language": "python",
   "name": "python3"
  },
  "language_info": {
   "codemirror_mode": {
    "name": "ipython",
    "version": 3
   },
   "file_extension": ".py",
   "mimetype": "text/x-python",
   "name": "python",
   "nbconvert_exporter": "python",
   "pygments_lexer": "ipython3",
   "version": "3.11.7"
  }
 },
 "nbformat": 4,
 "nbformat_minor": 2
}
